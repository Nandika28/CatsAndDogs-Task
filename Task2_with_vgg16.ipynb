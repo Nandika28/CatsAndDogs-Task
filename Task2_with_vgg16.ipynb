{
  "nbformat": 4,
  "nbformat_minor": 0,
  "metadata": {
    "colab": {
      "name": "Task2-with-vgg16.ipynb",
      "provenance": [],
      "collapsed_sections": [],
      "machine_shape": "hm",
      "include_colab_link": true
    },
    "kernelspec": {
      "name": "python3",
      "display_name": "Python 3"
    },
    "accelerator": "GPU"
  },
  "cells": [
    {
      "cell_type": "markdown",
      "metadata": {
        "id": "view-in-github",
        "colab_type": "text"
      },
      "source": [
        "<a href=\"https://colab.research.google.com/github/Nandika28/CatsAndDogs-Task/blob/master/Task2_with_vgg16.ipynb\" target=\"_parent\"><img src=\"https://colab.research.google.com/assets/colab-badge.svg\" alt=\"Open In Colab\"/></a>"
      ]
    },
    {
      "cell_type": "code",
      "metadata": {
        "id": "mMJ6877yO1dR",
        "colab_type": "code",
        "colab": {}
      },
      "source": [
        "# TensorFlow and tf.keras\n",
        "import tensorflow as tf\n",
        "\n",
        "import os\n",
        "import numpy as np\n",
        "from tensorflow import keras\n",
        "import glob\n",
        "\n",
        "# Helper libraries\n",
        "import IPython.display as display\n",
        "from PIL import Image\n",
        "from matplotlib.image import imread\n",
        "import os.path\n",
        "from os import path\n",
        "import matplotlib.cm as cm\n",
        "import sys\n",
        "import datetime\n",
        "import glob as glob\n",
        "import numpy as np\n",
        "import cv2\n",
        "import keras\n",
        "from keras.applications.vgg16 import VGG16, preprocess_input\n",
        "from keras.models import Model\n",
        "from keras.layers import Dense, GlobalAveragePooling2D\n",
        "from keras.preprocessing.image import ImageDataGenerator, array_to_img, img_to_array, load_img\n",
        "from keras.optimizers import SGD\n",
        "#from scipy.interpolate import spline\n",
        "import pandas as pd\n",
        "import matplotlib.pyplot as plt\n",
        "%matplotlib inline"
      ],
      "execution_count": null,
      "outputs": []
    },
    {
      "cell_type": "markdown",
      "metadata": {
        "id": "9CjRPL3FDDTB",
        "colab_type": "text"
      },
      "source": [
        "Step 1: Download the Dataset and get familiar with the organization of data."
      ]
    },
    {
      "cell_type": "code",
      "metadata": {
        "id": "4EIQRYL3rrtt",
        "colab_type": "code",
        "colab": {
          "base_uri": "https://localhost:8080/",
          "height": 202
        },
        "outputId": "20e8dfa7-3501-4041-8e54-408f5d5a2523"
      },
      "source": [
        "!wget --no-check-certificate \\\n",
        "https://download.microsoft.com/download/3/E/1/3E1C3F21-ECDB-4869-8368-6DEBA77B919F/kagglecatsanddogs_3367a.zip \\\n",
        "-O \"/tmp/cats-and-dogs.zip\"\n",
        "\n",
        "import zipfile\n",
        "zipped_data_path = \"/tmp/cats-and-dogs.zip\"\n",
        "zip_ref = zipfile.ZipFile(zipped_data_path,'r')\n",
        "zip_ref.extractall('/tmp')\n",
        "zip_ref.close()"
      ],
      "execution_count": null,
      "outputs": [
        {
          "output_type": "stream",
          "text": [
            "--2020-07-11 08:20:28--  https://download.microsoft.com/download/3/E/1/3E1C3F21-ECDB-4869-8368-6DEBA77B919F/kagglecatsanddogs_3367a.zip\n",
            "Resolving download.microsoft.com (download.microsoft.com)... 23.193.24.126, 2600:140e:6:b8d::e59, 2600:140e:6:ba1::e59\n",
            "Connecting to download.microsoft.com (download.microsoft.com)|23.193.24.126|:443... connected.\n",
            "HTTP request sent, awaiting response... 200 OK\n",
            "Length: 824894548 (787M) [application/octet-stream]\n",
            "Saving to: ‘/tmp/cats-and-dogs.zip’\n",
            "\n",
            "\r/tmp/cats-and-dogs.   0%[                    ]       0  --.-KB/s               \r/tmp/cats-and-dogs.   8%[>                   ]  66.15M   331MB/s               \r/tmp/cats-and-dogs.  16%[==>                 ] 130.76M   327MB/s               \r/tmp/cats-and-dogs.  25%[====>               ] 199.90M   333MB/s               \r/tmp/cats-and-dogs.  33%[=====>              ] 260.84M   326MB/s               \r/tmp/cats-and-dogs.  39%[======>             ] 310.15M   310MB/s               \r/tmp/cats-and-dogs.  46%[========>           ] 364.65M   304MB/s               \r/tmp/cats-and-dogs.  54%[=========>          ] 429.92M   307MB/s               \r/tmp/cats-and-dogs.  62%[===========>        ] 494.60M   309MB/s               \r/tmp/cats-and-dogs.  71%[=============>      ] 559.59M   311MB/s               \r/tmp/cats-and-dogs.  79%[==============>     ] 622.31M   311MB/s               \r/tmp/cats-and-dogs.  88%[================>   ] 692.52M   315MB/s               \r/tmp/cats-and-dogs.  96%[==================> ] 762.71M   318MB/s               \r/tmp/cats-and-dogs. 100%[===================>] 786.68M   319MB/s    in 2.5s    \n",
            "\n",
            "2020-07-11 08:20:31 (319 MB/s) - ‘/tmp/cats-and-dogs.zip’ saved [824894548/824894548]\n",
            "\n"
          ],
          "name": "stdout"
        }
      ]
    },
    {
      "cell_type": "markdown",
      "metadata": {
        "id": "XusFKMlRDIa0",
        "colab_type": "text"
      },
      "source": [
        "Step 2: Plan how you will prepare the data to feed to your data processor. (E.g. Maybe you want\n",
        "to create a new csv or excel file with all the necessary information or feed the current structure\n",
        "itself to the data processor)."
      ]
    },
    {
      "cell_type": "code",
      "metadata": {
        "id": "rZ5eUn6nQspk",
        "colab_type": "code",
        "colab": {
          "base_uri": "https://localhost:8080/",
          "height": 34
        },
        "outputId": "f9f7a1c0-3948-4c33-d03c-85f781681e6a"
      },
      "source": [
        "data_dir = '/tmp/PetImages/'\n",
        "CLASS_NAMES = os.listdir(data_dir)\n",
        "print(CLASS_NAMES)"
      ],
      "execution_count": null,
      "outputs": [
        {
          "output_type": "stream",
          "text": [
            "['Cat', 'Dog']\n"
          ],
          "name": "stdout"
        }
      ]
    },
    {
      "cell_type": "code",
      "metadata": {
        "id": "_4vK3XHfs3aY",
        "colab_type": "code",
        "colab": {}
      },
      "source": [
        "from sklearn.model_selection import train_test_split\n",
        "cat_files=os.listdir(\"/tmp/PetImages/Cat/\")\n",
        "\n",
        "dog_files=os.listdir(\"/tmp/PetImages/Dog/\")"
      ],
      "execution_count": null,
      "outputs": []
    },
    {
      "cell_type": "code",
      "metadata": {
        "id": "8ICbCV6DtgWO",
        "colab_type": "code",
        "colab": {}
      },
      "source": [
        "cat_train, cat_test = train_test_split(cat_files, test_size = 0.2, random_state = 5)\n",
        "dog_train, dog_test = train_test_split(dog_files, test_size = 0.2, random_state = 5)"
      ],
      "execution_count": null,
      "outputs": []
    },
    {
      "cell_type": "code",
      "metadata": {
        "id": "qJzKtUSFtiq9",
        "colab_type": "code",
        "colab": {}
      },
      "source": [
        "train_file_names = cat_train + dog_train \n",
        "\n",
        "test_file_names = cat_test + dog_test "
      ],
      "execution_count": null,
      "outputs": []
    },
    {
      "cell_type": "code",
      "metadata": {
        "id": "z5nv--8dtlPo",
        "colab_type": "code",
        "colab": {}
      },
      "source": [
        "np.random.shuffle(train_file_names)"
      ],
      "execution_count": null,
      "outputs": []
    },
    {
      "cell_type": "code",
      "metadata": {
        "id": "r-2Lyh24tpYL",
        "colab_type": "code",
        "colab": {
          "base_uri": "https://localhost:8080/",
          "height": 50
        },
        "outputId": "3519e963-0070-40f8-8b3d-c3b7dc88400f"
      },
      "source": [
        "print(\"Number of train_files:\" ,len(train_file_names))\n",
        "\n",
        "print(\"Number of test_files:\" ,len(test_file_names))"
      ],
      "execution_count": null,
      "outputs": [
        {
          "output_type": "stream",
          "text": [
            "Number of train_files: 20000\n",
            "Number of test_files: 5002\n"
          ],
          "name": "stdout"
        }
      ]
    },
    {
      "cell_type": "code",
      "metadata": {
        "id": "fVGakpO8tr02",
        "colab_type": "code",
        "colab": {}
      },
      "source": [
        "os.mkdir(\"./random_dir\")"
      ],
      "execution_count": null,
      "outputs": []
    },
    {
      "cell_type": "markdown",
      "metadata": {
        "id": "dHfLAzDHDfz4",
        "colab_type": "text"
      },
      "source": [
        "Step 3: Create data processors for Training and Testing/Validation. There are many ways to\n",
        "handle data - Keras Sequences, Keras Generators, TF.Data Pipelines. (Rule of Thumb: Never\n",
        "show testing/validation data to your model while training).\n",
        "1. In Task 1 Step 3, use image augmentation with your data processors.-----Here datagenerator is used"
      ]
    },
    {
      "cell_type": "code",
      "metadata": {
        "id": "6sKukzXUuG60",
        "colab_type": "code",
        "colab": {}
      },
      "source": [
        "os.mkdir(\"./random_dir/train\")\n",
        "os.mkdir(\"./random_dir/test\")"
      ],
      "execution_count": null,
      "outputs": []
    },
    {
      "cell_type": "code",
      "metadata": {
        "id": "ENuluFtLuJko",
        "colab_type": "code",
        "colab": {}
      },
      "source": [
        "for class_name in CLASS_NAMES:\n",
        "  os.mkdir(os.path.join(\"./random_dir/train\", class_name))\n",
        "  os.mkdir(os.path.join(\"./random_dir/test\", class_name))"
      ],
      "execution_count": null,
      "outputs": []
    },
    {
      "cell_type": "code",
      "metadata": {
        "id": "RUva2vOmurQc",
        "colab_type": "code",
        "colab": {
          "base_uri": "https://localhost:8080/",
          "height": 34
        },
        "outputId": "b468f1df-0231-4b54-9f47-a4f1152a81d6"
      },
      "source": [
        "import shutil\n",
        "from os import listdir\n",
        "from PIL import Image\n",
        "for file in cat_train:\n",
        "  if(file!='Thumbs.db' ):\n",
        "    path_file=os.path.join(os.path.join(data_dir,\"Cat\"),file)\n",
        "    if(path.exists(path_file) ):\n",
        "      try:\n",
        "        img = Image.open(path_file) # open the image file\n",
        "        img.verify() # verify that it is, in fact an image\n",
        "        dest=(\"./random_dir/train/Cat/\"+file)\n",
        "        shutil.copyfile(path_file, dest)\n",
        "      except (IOError, SyntaxError) as e:   \n",
        "        print('Bad file:', file) # print out the names"
      ],
      "execution_count": null,
      "outputs": [
        {
          "output_type": "stream",
          "text": [
            "Bad file: 666.jpg\n"
          ],
          "name": "stdout"
        }
      ]
    },
    {
      "cell_type": "code",
      "metadata": {
        "id": "rTZ-N72cuMK5",
        "colab_type": "code",
        "colab": {}
      },
      "source": [
        "import shutil\n",
        "from os import listdir\n",
        "from PIL import Image\n",
        "for file in cat_test:\n",
        "  if(file!='Thumbs.db' ):\n",
        "    path_file=os.path.join(os.path.join(data_dir,\"Cat\"),file)\n",
        "    if(path.exists(path_file) ):\n",
        "      try:\n",
        "        img = Image.open(path_file) # open the image file\n",
        "        img.verify() # verify that it is, in fact an image\n",
        "        dest=(\"./random_dir/test/Cat/\"+file)\n",
        "        shutil.copyfile(path_file, dest)\n",
        "      except (IOError, SyntaxError) as e:\n",
        "        print('Bad file:', file) # print out the names"
      ],
      "execution_count": null,
      "outputs": []
    },
    {
      "cell_type": "code",
      "metadata": {
        "id": "B4k1bhSoyfc5",
        "colab_type": "code",
        "colab": {
          "base_uri": "https://localhost:8080/",
          "height": 322
        },
        "outputId": "99c5df20-1f35-41b3-bd80-214fa6be461b"
      },
      "source": [
        "import warnings\n",
        "for file in dog_train:\n",
        "  if(file!='Thumbs.db' ):\n",
        "    path_file=os.path.join(os.path.join(data_dir,\"Dog\"),file)\n",
        "    if(path.exists(path_file) ):\n",
        "      try:\n",
        "        img = Image.open(path_file) # open the image file\n",
        "        img.verify() # verify that it is, in fact an image\n",
        "        dest=(\"./random_dir/train/Dog/\"+file)\n",
        "        shutil.copyfile(path_file, dest)\n",
        "      except (IOError, SyntaxError) as e:\n",
        "        print('Bad file:', file) # print out the name\n",
        "        warnings.filterwarnings('always')"
      ],
      "execution_count": null,
      "outputs": [
        {
          "output_type": "stream",
          "text": [
            "Bad file: 11702.jpg\n"
          ],
          "name": "stdout"
        },
        {
          "output_type": "stream",
          "text": [
            "/usr/local/lib/python3.6/dist-packages/PIL/TiffImagePlugin.py:770: UserWarning: Possibly corrupt EXIF data.  Expecting to read 32 bytes but only got 0. Skipping tag 270\n",
            "  \" Skipping tag %s\" % (size, len(data), tag)\n",
            "/usr/local/lib/python3.6/dist-packages/PIL/TiffImagePlugin.py:770: UserWarning: Possibly corrupt EXIF data.  Expecting to read 5 bytes but only got 0. Skipping tag 271\n",
            "  \" Skipping tag %s\" % (size, len(data), tag)\n",
            "/usr/local/lib/python3.6/dist-packages/PIL/TiffImagePlugin.py:770: UserWarning: Possibly corrupt EXIF data.  Expecting to read 8 bytes but only got 0. Skipping tag 272\n",
            "  \" Skipping tag %s\" % (size, len(data), tag)\n",
            "/usr/local/lib/python3.6/dist-packages/PIL/TiffImagePlugin.py:770: UserWarning: Possibly corrupt EXIF data.  Expecting to read 8 bytes but only got 0. Skipping tag 282\n",
            "  \" Skipping tag %s\" % (size, len(data), tag)\n",
            "/usr/local/lib/python3.6/dist-packages/PIL/TiffImagePlugin.py:770: UserWarning: Possibly corrupt EXIF data.  Expecting to read 8 bytes but only got 0. Skipping tag 283\n",
            "  \" Skipping tag %s\" % (size, len(data), tag)\n",
            "/usr/local/lib/python3.6/dist-packages/PIL/TiffImagePlugin.py:770: UserWarning: Possibly corrupt EXIF data.  Expecting to read 20 bytes but only got 0. Skipping tag 306\n",
            "  \" Skipping tag %s\" % (size, len(data), tag)\n",
            "/usr/local/lib/python3.6/dist-packages/PIL/TiffImagePlugin.py:770: UserWarning: Possibly corrupt EXIF data.  Expecting to read 48 bytes but only got 0. Skipping tag 532\n",
            "  \" Skipping tag %s\" % (size, len(data), tag)\n",
            "/usr/local/lib/python3.6/dist-packages/PIL/TiffImagePlugin.py:788: UserWarning: Corrupt EXIF data.  Expecting to read 2 bytes but only got 0. \n",
            "  warnings.warn(str(msg))\n"
          ],
          "name": "stderr"
        }
      ]
    },
    {
      "cell_type": "code",
      "metadata": {
        "id": "LwEFZuh2zHbC",
        "colab_type": "code",
        "colab": {}
      },
      "source": [
        "for file in dog_test:\n",
        "  if(file!='Thumbs.db' ):\n",
        "    path_file=os.path.join(os.path.join(data_dir,\"Dog\"),file)\n",
        "    if(path.exists(path_file) ):\n",
        "      try:\n",
        "        img = Image.open(path_file) # open the image file\n",
        "        img.verify() # verify that it is, in fact an image\n",
        "        dest=(\"./random_dir/test/Dog/\"+file)\n",
        "        shutil.copyfile(path_file, dest)\n",
        "      except (IOError, SyntaxError) as e:\n",
        "        print('Bad file:', file) # print out the names"
      ],
      "execution_count": null,
      "outputs": []
    },
    {
      "cell_type": "markdown",
      "metadata": {
        "id": "GtimyceRDWQP",
        "colab_type": "text"
      },
      "source": [
        "Step 4: Create your own Neural network with Convolution layers, Max Pool Layers, Dense Layers,\n",
        "Dropout layers from scratch \n",
        "2. In Task 1 Step 4, use known networks (such as VGG16, Resnet, etc.) to train your AI\n",
        "model.----Here keras.applications.xception.Xception has been used for predictions and generation of heat maps "
      ]
    },
    {
      "cell_type": "code",
      "metadata": {
        "id": "6nUnEDWnJKh9",
        "colab_type": "code",
        "colab": {}
      },
      "source": [
        "os.mkdir(\"./preview\")"
      ],
      "execution_count": null,
      "outputs": []
    },
    {
      "cell_type": "code",
      "metadata": {
        "id": "f-PrM2dmGZW4",
        "colab_type": "code",
        "colab": {}
      },
      "source": [
        "from keras.preprocessing.image import ImageDataGenerator, array_to_img, img_to_array, load_img\n",
        "\n",
        "datagen = ImageDataGenerator(\n",
        "        rotation_range=40,\n",
        "        width_shift_range=0.2,\n",
        "        height_shift_range=0.2,\n",
        "        shear_range=0.2,\n",
        "        zoom_range=0.2,\n",
        "        horizontal_flip=True,\n",
        "        fill_mode='nearest')\n",
        "\n",
        "img = load_img('/content/random_dir/train/Cat/10.jpg')  # this is a PIL image\n",
        "x = img_to_array(img)  # this is a Numpy array with shape (3, 150, 150)\n",
        "x = x.reshape((1,) + x.shape)  # this is a Numpy array with shape (1, 3, 150, 150)\n",
        "\n",
        "# the .flow() command below generates batches of randomly transformed images\n",
        "# and saves the results to the `preview/` directory\n",
        "i = 0\n",
        "for batch in datagen.flow(x, batch_size=1,\n",
        "                          save_to_dir='preview', save_prefix='cat', save_format='jpg'):\n",
        "    i += 1\n",
        "    if i > 20:\n",
        "        break  # otherwise the generator would loop indefinitely"
      ],
      "execution_count": null,
      "outputs": []
    },
    {
      "cell_type": "code",
      "metadata": {
        "id": "ZmT8C1SeGb9X",
        "colab_type": "code",
        "colab": {}
      },
      "source": [
        ""
      ],
      "execution_count": null,
      "outputs": []
    },
    {
      "cell_type": "code",
      "metadata": {
        "id": "_M2zlu4JKC7E",
        "colab_type": "code",
        "colab": {}
      },
      "source": [
        "# data pre-processing for training\n",
        "train_datagen =  ImageDataGenerator(\n",
        "    rescale = 1./255,\n",
        "    rotation_range = 20,\n",
        "    width_shift_range = 0.2,\n",
        "    height_shift_range = 0.2,\n",
        "    shear_range = 0.2,\n",
        "    zoom_range = 0.2,\n",
        "    fill_mode = 'nearest',\n",
        "    horizontal_flip = True)"
      ],
      "execution_count": null,
      "outputs": []
    },
    {
      "cell_type": "code",
      "metadata": {
        "id": "kdJgDYPJKHYQ",
        "colab_type": "code",
        "colab": {}
      },
      "source": [
        "# data pre-processing for validation\n",
        "validate_datagen =  ImageDataGenerator(\n",
        "    rescale = 1./255,\n",
        "    rotation_range = 20,\n",
        "    width_shift_range = 0.2,\n",
        "    height_shift_range = 0.2,\n",
        "    shear_range = 0.2,\n",
        "    zoom_range = 0.2,\n",
        "    fill_mode = 'nearest',\n",
        "    horizontal_flip = True)"
      ],
      "execution_count": null,
      "outputs": []
    },
    {
      "cell_type": "code",
      "metadata": {
        "id": "pYi3tGlUKRKc",
        "colab_type": "code",
        "colab": {
          "base_uri": "https://localhost:8080/",
          "height": 50
        },
        "outputId": "b7748bb9-5353-423f-eab4-fc4fe493ec08"
      },
      "source": [
        "# default settings\n",
        "img_width, img_height = 299, 299\n",
        "# generate and store training data\n",
        "train_dir=\"/content/random_dir/train\"\n",
        "test_dir=\"/content/random_dir/test\"\n",
        "train_generator = train_datagen.flow_from_directory(\n",
        "    train_dir,\n",
        "    target_size = (img_width, img_height),\n",
        "    batch_size = 1)\n",
        "# generate and store validation data\n",
        "validate_generator = validate_datagen.flow_from_directory(\n",
        "    test_dir,\n",
        "    target_size = (img_width, img_height),\n",
        "    batch_size = 1)"
      ],
      "execution_count": null,
      "outputs": [
        {
          "output_type": "stream",
          "text": [
            "Found 19996 images belonging to 2 classes.\n",
            "Found 5002 images belonging to 2 classes.\n"
          ],
          "name": "stdout"
        }
      ]
    },
    {
      "cell_type": "code",
      "metadata": {
        "id": "NiWDEqU8LH64",
        "colab_type": "code",
        "colab": {
          "base_uri": "https://localhost:8080/",
          "height": 84
        },
        "outputId": "fc2ee0b3-6eae-477c-9115-5198b74d2985"
      },
      "source": [
        "# this will copy the pretrained weights to our kernel\n",
        "!mkdir ~/.keras\n",
        "!mkdir ~/.keras/models\n",
        "!cp ../input/keras-pretrained-models/*notop* ~/.keras/models/\n",
        "!cp ../input/keras-pretrained-models/imagenet_class_index.json ~/.keras/models/"
      ],
      "execution_count": null,
      "outputs": [
        {
          "output_type": "stream",
          "text": [
            "mkdir: cannot create directory ‘/root/.keras’: File exists\n",
            "mkdir: cannot create directory ‘/root/.keras/models’: File exists\n",
            "cp: cannot stat '../input/keras-pretrained-models/*notop*': No such file or directory\n",
            "cp: cannot stat '../input/keras-pretrained-models/imagenet_class_index.json': No such file or directory\n"
          ],
          "name": "stdout"
        }
      ]
    },
    {
      "cell_type": "code",
      "metadata": {
        "id": "NFd6iZjpLX9D",
        "colab_type": "code",
        "colab": {
          "base_uri": "https://localhost:8080/",
          "height": 70
        },
        "outputId": "badd0f4c-5c9f-4ecf-e27d-80b2d1a2aabe"
      },
      "source": [
        "# set up transfer learning on pre-trained ImageNet VGG16 model - remove fully connected layer and replace\n",
        "# with softmax for classifying 10 classes\n",
        "nb_classes=2\n",
        "vgg16_model = VGG16(weights = 'imagenet', include_top = False)\n",
        "x = vgg16_model.output\n",
        "x = GlobalAveragePooling2D()(x)\n",
        "x = Dense(1024, activation='relu')(x)\n",
        "predictions = Dense(nb_classes, activation = 'softmax')(x)\n",
        "model = Model(input = vgg16_model.input, output = predictions)"
      ],
      "execution_count": null,
      "outputs": [
        {
          "output_type": "stream",
          "text": [
            "/usr/local/lib/python3.6/dist-packages/ipykernel_launcher.py:9: UserWarning: Update your `Model` call to the Keras 2 API: `Model(inputs=Tensor(\"in..., outputs=Tensor(\"de...)`\n",
            "  if __name__ == '__main__':\n"
          ],
          "name": "stderr"
        }
      ]
    },
    {
      "cell_type": "code",
      "metadata": {
        "id": "LUj6h5hsMmSj",
        "colab_type": "code",
        "colab": {}
      },
      "source": [
        "# freeze all layers of the pre-trained model\n",
        "for layer in vgg16_model.layers:\n",
        "    layer.trainable = False"
      ],
      "execution_count": null,
      "outputs": []
    },
    {
      "cell_type": "code",
      "metadata": {
        "id": "9Nn4PHBMMxdx",
        "colab_type": "code",
        "colab": {}
      },
      "source": [
        "# compile the new model using a RMSProp optimizer\n",
        "model.compile(optimizer = 'rmsprop',\n",
        "    loss = 'categorical_crossentropy',\n",
        "    metrics = ['accuracy'])"
      ],
      "execution_count": null,
      "outputs": []
    },
    {
      "cell_type": "code",
      "metadata": {
        "id": "sCxoEgm5M6id",
        "colab_type": "code",
        "colab": {
          "base_uri": "https://localhost:8080/",
          "height": 709
        },
        "outputId": "824174d3-3c52-459d-b168-b168e753765d"
      },
      "source": [
        "transfer_learning_history = model.fit_generator(\n",
        "    train_generator,\n",
        "    nb_epoch = 2,\n",
        "    samples_per_epoch = 19996,\n",
        "    validation_data = validate_generator,\n",
        "    nb_val_samples = 5002,\n",
        "    class_weight='auto')"
      ],
      "execution_count": null,
      "outputs": [
        {
          "output_type": "stream",
          "text": [
            "/usr/local/lib/python3.6/dist-packages/ipykernel_launcher.py:7: UserWarning: The semantics of the Keras 2 argument `steps_per_epoch` is not the same as the Keras 1 argument `samples_per_epoch`. `steps_per_epoch` is the number of batches to draw from the generator at each epoch. Basically steps_per_epoch = samples_per_epoch/batch_size. Similarly `nb_val_samples`->`validation_steps` and `val_samples`->`steps` arguments have changed. Update your method calls accordingly.\n",
            "  import sys\n",
            "/usr/local/lib/python3.6/dist-packages/ipykernel_launcher.py:7: UserWarning: Update your `fit_generator` call to the Keras 2 API: `fit_generator(<keras.pre..., validation_data=<keras.pre..., class_weight=\"auto\", steps_per_epoch=19996, epochs=2, validation_steps=5002)`\n",
            "  import sys\n"
          ],
          "name": "stderr"
        },
        {
          "output_type": "stream",
          "text": [
            "Epoch 1/2\n",
            "15990/19996 [======================>.......] - ETA: 1:37 - loss: 0.3710 - accuracy: 0.8522"
          ],
          "name": "stdout"
        },
        {
          "output_type": "stream",
          "text": [
            "/usr/local/lib/python3.6/dist-packages/PIL/TiffImagePlugin.py:770: UserWarning: Possibly corrupt EXIF data.  Expecting to read 32 bytes but only got 0. Skipping tag 270\n",
            "  \" Skipping tag %s\" % (size, len(data), tag)\n",
            "/usr/local/lib/python3.6/dist-packages/PIL/TiffImagePlugin.py:770: UserWarning: Possibly corrupt EXIF data.  Expecting to read 5 bytes but only got 0. Skipping tag 271\n",
            "  \" Skipping tag %s\" % (size, len(data), tag)\n",
            "/usr/local/lib/python3.6/dist-packages/PIL/TiffImagePlugin.py:770: UserWarning: Possibly corrupt EXIF data.  Expecting to read 8 bytes but only got 0. Skipping tag 272\n",
            "  \" Skipping tag %s\" % (size, len(data), tag)\n",
            "/usr/local/lib/python3.6/dist-packages/PIL/TiffImagePlugin.py:770: UserWarning: Possibly corrupt EXIF data.  Expecting to read 8 bytes but only got 0. Skipping tag 282\n",
            "  \" Skipping tag %s\" % (size, len(data), tag)\n",
            "/usr/local/lib/python3.6/dist-packages/PIL/TiffImagePlugin.py:770: UserWarning: Possibly corrupt EXIF data.  Expecting to read 8 bytes but only got 0. Skipping tag 283\n",
            "  \" Skipping tag %s\" % (size, len(data), tag)\n",
            "/usr/local/lib/python3.6/dist-packages/PIL/TiffImagePlugin.py:770: UserWarning: Possibly corrupt EXIF data.  Expecting to read 20 bytes but only got 0. Skipping tag 306\n",
            "  \" Skipping tag %s\" % (size, len(data), tag)\n",
            "/usr/local/lib/python3.6/dist-packages/PIL/TiffImagePlugin.py:770: UserWarning: Possibly corrupt EXIF data.  Expecting to read 48 bytes but only got 0. Skipping tag 532\n",
            "  \" Skipping tag %s\" % (size, len(data), tag)\n",
            "/usr/local/lib/python3.6/dist-packages/PIL/TiffImagePlugin.py:788: UserWarning: Corrupt EXIF data.  Expecting to read 2 bytes but only got 0. \n",
            "  warnings.warn(str(msg))\n"
          ],
          "name": "stderr"
        },
        {
          "output_type": "stream",
          "text": [
            "19996/19996 [==============================] - 598s 30ms/step - loss: 0.3650 - accuracy: 0.8573 - val_loss: 0.0031 - val_accuracy: 0.9074\n",
            "Epoch 2/2\n",
            "15306/19996 [=====================>........] - ETA: 1:49 - loss: 0.3182 - accuracy: 0.8846"
          ],
          "name": "stdout"
        },
        {
          "output_type": "stream",
          "text": [
            "/usr/local/lib/python3.6/dist-packages/PIL/TiffImagePlugin.py:770: UserWarning: Possibly corrupt EXIF data.  Expecting to read 32 bytes but only got 0. Skipping tag 270\n",
            "  \" Skipping tag %s\" % (size, len(data), tag)\n",
            "/usr/local/lib/python3.6/dist-packages/PIL/TiffImagePlugin.py:770: UserWarning: Possibly corrupt EXIF data.  Expecting to read 5 bytes but only got 0. Skipping tag 271\n",
            "  \" Skipping tag %s\" % (size, len(data), tag)\n",
            "/usr/local/lib/python3.6/dist-packages/PIL/TiffImagePlugin.py:770: UserWarning: Possibly corrupt EXIF data.  Expecting to read 8 bytes but only got 0. Skipping tag 272\n",
            "  \" Skipping tag %s\" % (size, len(data), tag)\n",
            "/usr/local/lib/python3.6/dist-packages/PIL/TiffImagePlugin.py:770: UserWarning: Possibly corrupt EXIF data.  Expecting to read 8 bytes but only got 0. Skipping tag 282\n",
            "  \" Skipping tag %s\" % (size, len(data), tag)\n",
            "/usr/local/lib/python3.6/dist-packages/PIL/TiffImagePlugin.py:770: UserWarning: Possibly corrupt EXIF data.  Expecting to read 8 bytes but only got 0. Skipping tag 283\n",
            "  \" Skipping tag %s\" % (size, len(data), tag)\n",
            "/usr/local/lib/python3.6/dist-packages/PIL/TiffImagePlugin.py:770: UserWarning: Possibly corrupt EXIF data.  Expecting to read 20 bytes but only got 0. Skipping tag 306\n",
            "  \" Skipping tag %s\" % (size, len(data), tag)\n",
            "/usr/local/lib/python3.6/dist-packages/PIL/TiffImagePlugin.py:770: UserWarning: Possibly corrupt EXIF data.  Expecting to read 48 bytes but only got 0. Skipping tag 532\n",
            "  \" Skipping tag %s\" % (size, len(data), tag)\n",
            "/usr/local/lib/python3.6/dist-packages/PIL/TiffImagePlugin.py:788: UserWarning: Corrupt EXIF data.  Expecting to read 2 bytes but only got 0. \n",
            "  warnings.warn(str(msg))\n"
          ],
          "name": "stderr"
        },
        {
          "output_type": "stream",
          "text": [
            "19996/19996 [==============================] - 580s 29ms/step - loss: 0.3185 - accuracy: 0.8845 - val_loss: 0.0510 - val_accuracy: 0.9164\n"
          ],
          "name": "stdout"
        }
      ]
    },
    {
      "cell_type": "code",
      "metadata": {
        "id": "btI-1zW-NoJR",
        "colab_type": "code",
        "colab": {
          "base_uri": "https://localhost:8080/",
          "height": 34
        },
        "outputId": "33c1992a-15e4-4a62-f0fd-d4ee89438c75"
      },
      "source": [
        "# evaluate the performance the new model and report the results\n",
        "score = model.evaluate_generator(validate_generator, 5002/1)\n",
        "print(\"Test Accuracy:\", score[1])"
      ],
      "execution_count": null,
      "outputs": [
        {
          "output_type": "stream",
          "text": [
            "Test Accuracy: 0.9212315082550049\n"
          ],
          "name": "stdout"
        }
      ]
    },
    {
      "cell_type": "markdown",
      "metadata": {
        "id": "uuM-XHvwJi-J",
        "colab_type": "text"
      },
      "source": [
        "  **Accuracy measured is 92.12% which is a lot better than old cnn model**"
      ]
    },
    {
      "cell_type": "code",
      "metadata": {
        "id": "V22ZmO4VyK7d",
        "colab_type": "code",
        "colab": {
          "base_uri": "https://localhost:8080/",
          "height": 890
        },
        "outputId": "0fd00d0d-2e9a-40ab-a95b-5486581b256b"
      },
      "source": [
        "model.summary()"
      ],
      "execution_count": null,
      "outputs": [
        {
          "output_type": "stream",
          "text": [
            "Model: \"model_16\"\n",
            "_________________________________________________________________\n",
            "Layer (type)                 Output Shape              Param #   \n",
            "=================================================================\n",
            "input_50 (InputLayer)        (None, None, None, 3)     0         \n",
            "_________________________________________________________________\n",
            "block1_conv1 (Conv2D)        (None, None, None, 64)    1792      \n",
            "_________________________________________________________________\n",
            "block1_conv2 (Conv2D)        (None, None, None, 64)    36928     \n",
            "_________________________________________________________________\n",
            "block1_pool (MaxPooling2D)   (None, None, None, 64)    0         \n",
            "_________________________________________________________________\n",
            "block2_conv1 (Conv2D)        (None, None, None, 128)   73856     \n",
            "_________________________________________________________________\n",
            "block2_conv2 (Conv2D)        (None, None, None, 128)   147584    \n",
            "_________________________________________________________________\n",
            "block2_pool (MaxPooling2D)   (None, None, None, 128)   0         \n",
            "_________________________________________________________________\n",
            "block3_conv1 (Conv2D)        (None, None, None, 256)   295168    \n",
            "_________________________________________________________________\n",
            "block3_conv2 (Conv2D)        (None, None, None, 256)   590080    \n",
            "_________________________________________________________________\n",
            "block3_conv3 (Conv2D)        (None, None, None, 256)   590080    \n",
            "_________________________________________________________________\n",
            "block3_pool (MaxPooling2D)   (None, None, None, 256)   0         \n",
            "_________________________________________________________________\n",
            "block4_conv1 (Conv2D)        (None, None, None, 512)   1180160   \n",
            "_________________________________________________________________\n",
            "block4_conv2 (Conv2D)        (None, None, None, 512)   2359808   \n",
            "_________________________________________________________________\n",
            "block4_conv3 (Conv2D)        (None, None, None, 512)   2359808   \n",
            "_________________________________________________________________\n",
            "block4_pool (MaxPooling2D)   (None, None, None, 512)   0         \n",
            "_________________________________________________________________\n",
            "block5_conv1 (Conv2D)        (None, None, None, 512)   2359808   \n",
            "_________________________________________________________________\n",
            "block5_conv2 (Conv2D)        (None, None, None, 512)   2359808   \n",
            "_________________________________________________________________\n",
            "block5_conv3 (Conv2D)        (None, None, None, 512)   2359808   \n",
            "_________________________________________________________________\n",
            "block5_pool (MaxPooling2D)   (None, None, None, 512)   0         \n",
            "_________________________________________________________________\n",
            "global_average_pooling2d_26  (None, 512)               0         \n",
            "_________________________________________________________________\n",
            "dense_9 (Dense)              (None, 1024)              525312    \n",
            "_________________________________________________________________\n",
            "dense_10 (Dense)             (None, 2)                 2050      \n",
            "=================================================================\n",
            "Total params: 15,242,050\n",
            "Trainable params: 527,362\n",
            "Non-trainable params: 14,714,688\n",
            "_________________________________________________________________\n"
          ],
          "name": "stdout"
        }
      ]
    },
    {
      "cell_type": "code",
      "metadata": {
        "id": "V6qLNODcRIhc",
        "colab_type": "code",
        "colab": {}
      },
      "source": [
        "# save transfer learning model for offline prediction purposes\n",
        "model.save('dogsandcat_vgg16_model_tl.h5')"
      ],
      "execution_count": null,
      "outputs": []
    },
    {
      "cell_type": "code",
      "metadata": {
        "id": "MHBk0OK80CNr",
        "colab_type": "code",
        "colab": {
          "base_uri": "https://localhost:8080/",
          "height": 281
        },
        "outputId": "b1160acc-cd4f-4508-dbd2-1d2ac06e13d5"
      },
      "source": [
        "#visualising training results\n",
        "acc_train = transfer_learning_history.history['accuracy']\n",
        "acc_test = transfer_learning_history.history['val_accuracy']\n",
        "\n",
        "loss_train=transfer_learning_history.history['loss']\n",
        "loss_test=transfer_learning_history.history['val_loss']\n",
        "\n",
        "epochs_range = range(2)\n",
        "\n",
        "plt.figure(figsize=(4,4))\n",
        "plt.subplot(1, 2, 1)\n",
        "plt.plot(epochs_range, acc_train, label='Training Accuracy')\n",
        "plt.plot(epochs_range, acc_test, label='Validation Accuracy')\n",
        "plt.legend(loc='lower right')\n",
        "plt.title('Training and Validation Accuracy')\n",
        "\n",
        "plt.subplot(1, 2, 2)\n",
        "plt.plot(epochs_range, loss_train, label='Training Loss')\n",
        "plt.plot(epochs_range, loss_test, label='Validation Loss')\n",
        "plt.legend(loc='upper right')\n",
        "plt.title('Training and Validation Loss')\n",
        "plt.show()"
      ],
      "execution_count": null,
      "outputs": [
        {
          "output_type": "display_data",
          "data": {
            "image/png": "[encoded data removed]",
            "text/plain": [
              "<Figure size 288x288 with 2 Axes>"
            ]
          },
          "metadata": {
            "tags": [],
            "needs_background": "light"
          }
        }
      ]
    },
    {
      "cell_type": "code",
      "metadata": {
        "id": "SX2Ck-a64bTJ",
        "colab_type": "code",
        "colab": {
          "base_uri": "https://localhost:8080/",
          "height": 34
        },
        "outputId": "d8deb4b2-658c-4cfd-fe9a-77c39814df98"
      },
      "source": [
        "print(cat_test[0:3])"
      ],
      "execution_count": null,
      "outputs": [
        {
          "output_type": "stream",
          "text": [
            "['10291.jpg', '8982.jpg', '4178.jpg']\n"
          ],
          "name": "stdout"
        }
      ]
    },
    {
      "cell_type": "code",
      "metadata": {
        "id": "tzdLrHe7EirZ",
        "colab_type": "code",
        "colab": {
          "base_uri": "https://localhost:8080/",
          "height": 34
        },
        "outputId": "52f6569e-5fd3-46f4-90a4-dbd5b41bca74"
      },
      "source": [
        "print(dog_test[2:5])"
      ],
      "execution_count": null,
      "outputs": [
        {
          "output_type": "stream",
          "text": [
            "['4178.jpg', '4147.jpg', '7340.jpg']\n"
          ],
          "name": "stdout"
        }
      ]
    },
    {
      "cell_type": "code",
      "metadata": {
        "id": "iDpiYUN5-3QI",
        "colab_type": "code",
        "colab": {
          "base_uri": "https://localhost:8080/",
          "height": 235
        },
        "outputId": "98cd6716-c8e8-49fb-bbd7-6b543e583092"
      },
      "source": [
        "# summarize feature map size for each conv layer\n",
        "from keras.applications.vgg16 import VGG16\n",
        "from matplotlib import pyplot\n",
        "# load the model\n",
        "model = VGG16()\n",
        "# summarize feature map shapes\n",
        "for i in range(len(model.layers)):\n",
        "\tlayer = model.layers[i]\n",
        "\t# check for convolutional layer\n",
        "\tif 'conv' not in layer.name:\n",
        "\t\tcontinue\n",
        "\t# summarize output shape\n",
        "\tprint(i, layer.name, layer.output.shape)"
      ],
      "execution_count": null,
      "outputs": [
        {
          "output_type": "stream",
          "text": [
            "1 block1_conv1 (None, 224, 224, 64)\n",
            "2 block1_conv2 (None, 224, 224, 64)\n",
            "4 block2_conv1 (None, 112, 112, 128)\n",
            "5 block2_conv2 (None, 112, 112, 128)\n",
            "7 block3_conv1 (None, 56, 56, 256)\n",
            "8 block3_conv2 (None, 56, 56, 256)\n",
            "9 block3_conv3 (None, 56, 56, 256)\n",
            "11 block4_conv1 (None, 28, 28, 512)\n",
            "12 block4_conv2 (None, 28, 28, 512)\n",
            "13 block4_conv3 (None, 28, 28, 512)\n",
            "15 block5_conv1 (None, 14, 14, 512)\n",
            "16 block5_conv2 (None, 14, 14, 512)\n",
            "17 block5_conv3 (None, 14, 14, 512)\n"
          ],
          "name": "stdout"
        }
      ]
    },
    {
      "cell_type": "code",
      "metadata": {
        "id": "nPL1UJj1CgeK",
        "colab_type": "code",
        "colab": {
          "base_uri": "https://localhost:8080/",
          "height": 34
        },
        "outputId": "9a000365-e606-4944-a2e4-3bc1a4301909"
      },
      "source": [
        "from tensorflow.keras.preprocessing.image import load_img\n",
        "from tensorflow.keras.models import load_model\n",
        "\n",
        "from tensorflow.keras import preprocessing\n",
        "from tensorflow.keras import backend as K\n",
        "from tensorflow.keras import models\n",
        "\n",
        "import tensorflow as tf\n",
        "import numpy as np\n",
        "\n",
        "image_size = 224\n",
        "\n",
        "# Load pre-trained Keras model and the image to classify\n",
        "model = tf.keras.applications.vgg16.VGG16()\n",
        "image = np.random.random((image_size, image_size, 3))\n",
        "img_tensor = preprocessing.image.img_to_array(image)\n",
        "img_tensor = np.expand_dims(img_tensor, axis=0)\n",
        "img_tensor = preprocess_input(img_tensor)\n",
        "\n",
        "conv_layer = model.get_layer(\"block5_conv3\")\n",
        "heatmap_model = models.Model([model.inputs], [conv_layer.output, model.output])\n",
        "\n",
        "# Get gradient of the winner class w.r.t. the output of the (last) conv. layer\n",
        "with tf.GradientTape() as gtape:\n",
        "    conv_output, predictions = heatmap_model(img_tensor)\n",
        "    loss = predictions[:, np.argmax(predictions[0])]\n",
        "    grads = gtape.gradient(loss, conv_output)\n",
        "    pooled_grads = K.mean(grads, axis=(0, 1, 2))\n",
        "\n",
        "heatmap = tf.reduce_mean(tf.multiply(pooled_grads, conv_output), axis=-1)\n",
        "heatmap = np.maximum(heatmap, 0)\n",
        "max_heat = np.max(heatmap)\n",
        "if max_heat == 0:\n",
        "    max_heat = 1e-10\n",
        "heatmap /= max_heat\n",
        "\n",
        "print(heatmap.shape)\n"
      ],
      "execution_count": null,
      "outputs": [
        {
          "output_type": "stream",
          "text": [
            "(1, 14, 14)\n"
          ],
          "name": "stdout"
        }
      ]
    },
    {
      "cell_type": "code",
      "metadata": {
        "id": "gw3vgeJVISn4",
        "colab_type": "code",
        "colab": {}
      },
      "source": [
        ""
      ],
      "execution_count": null,
      "outputs": []
    }
  ]
}