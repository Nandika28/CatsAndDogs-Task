{
  "nbformat": 4,
  "nbformat_minor": 0,
  "metadata": {
    "colab": {
      "name": "Task1-cat-and-dog.ipynb",
      "provenance": [],
      "authorship_tag": "ABX9TyPMG+0h1EJkPcnKIzFOljew",
      "include_colab_link": true
    },
    "kernelspec": {
      "name": "python3",
      "display_name": "Python 3"
    }
  },
  "cells": [
    {
      "cell_type": "markdown",
      "metadata": {
        "id": "view-in-github",
        "colab_type": "text"
      },
      "source": [
        "<a href=\"https://colab.research.google.com/github/Nandika28/CatsAndDogs-Task/blob/master/Task1_cat_and_dog.ipynb\" target=\"_parent\"><img src=\"https://colab.research.google.com/assets/colab-badge.svg\" alt=\"Open In Colab\"/></a>"
      ]
    },
    {
      "cell_type": "code",
      "metadata": {
        "id": "nd7ESjFfNXxA",
        "colab_type": "code",
        "colab": {
          "base_uri": "https://localhost:8080/",
          "height": 34
        },
        "outputId": "eeedcc7c-a3e3-4dff-8928-12ddbda8d015"
      },
      "source": [
        "import tensorflow as tf\n",
        "import os\n",
        "import numpy as np\n",
        "import matplotlib.pyplot as plt\n",
        "from tensorflow import keras\n",
        "import glob\n",
        "from tensorflow.keras.models import Sequential\n",
        "from tensorflow.keras.layers import Dense, Conv2D, Flatten, Dropout, MaxPooling2D\n",
        "from tensorflow.keras.preprocessing.image import ImageDataGenerator\n",
        "import keras"
      ],
      "execution_count": 1,
      "outputs": [
        {
          "output_type": "stream",
          "text": [
            "Using TensorFlow backend.\n"
          ],
          "name": "stderr"
        }
      ]
    },
    {
      "cell_type": "markdown",
      "metadata": {
        "id": "0fmaMo2ItZO-",
        "colab_type": "text"
      },
      "source": [
        "Step 1:Downloading the dataset. \n",
        "Dataset Link: https://www.microsoft.com/en-us/download/details.aspx?id=54765\n",
        "Classifying the images as cat and dog"
      ]
    },
    {
      "cell_type": "code",
      "metadata": {
        "id": "opqrI1VBOWqg",
        "colab_type": "code",
        "colab": {
          "base_uri": "https://localhost:8080/",
          "height": 202
        },
        "outputId": "af1d633e-2069-4d1d-e124-854748d050c5"
      },
      "source": [
        "!wget --no-check-certificate \\\n",
        "https://download.microsoft.com/download/3/E/1/3E1C3F21-ECDB-4869-8368-6DEBA77B919F/kagglecatsanddogs_3367a.zip \\\n",
        "-O \"/tmp/cats-and-dogs.zip\"\n",
        "\n",
        "import zipfile\n",
        "zipped_data_path = \"/tmp/cats-and-dogs.zip\"\n",
        "zip_ref = zipfile.ZipFile(zipped_data_path,'r')\n",
        "zip_ref.extractall('/tmp')\n",
        "zip_ref.close()"
      ],
      "execution_count": 2,
      "outputs": [
        {
          "output_type": "stream",
          "text": [
            "--2020-07-10 06:33:18--  https://download.microsoft.com/download/3/E/1/3E1C3F21-ECDB-4869-8368-6DEBA77B919F/kagglecatsanddogs_3367a.zip\n",
            "Resolving download.microsoft.com (download.microsoft.com)... 23.193.24.126, 2600:1417:8000:9ac::e59, 2600:1417:8000:9b2::e59, ...\n",
            "Connecting to download.microsoft.com (download.microsoft.com)|23.193.24.126|:443... connected.\n",
            "HTTP request sent, awaiting response... 200 OK\n",
            "Length: 824894548 (787M) [application/octet-stream]\n",
            "Saving to: ‘/tmp/cats-and-dogs.zip’\n",
            "\n",
            "/tmp/cats-and-dogs. 100%[===================>] 786.68M   169MB/s    in 4.6s    \n",
            "\n",
            "2020-07-10 06:33:23 (172 MB/s) - ‘/tmp/cats-and-dogs.zip’ saved [824894548/824894548]\n",
            "\n"
          ],
          "name": "stdout"
        }
      ]
    },
    {
      "cell_type": "code",
      "metadata": {
        "id": "_T5-C6BJOh30",
        "colab_type": "code",
        "colab": {
          "base_uri": "https://localhost:8080/",
          "height": 34
        },
        "outputId": "6a6fbc9a-d1ac-4e0b-cd08-c1f077b4ca16"
      },
      "source": [
        "data_dir = '/tmp/PetImages/'\n",
        "CLASS_NAMES = os.listdir(data_dir)\n",
        "print(CLASS_NAMES)"
      ],
      "execution_count": 3,
      "outputs": [
        {
          "output_type": "stream",
          "text": [
            "['Cat', 'Dog']\n"
          ],
          "name": "stdout"
        }
      ]
    },
    {
      "cell_type": "code",
      "metadata": {
        "id": "JCU7UpfYOsMq",
        "colab_type": "code",
        "colab": {
          "base_uri": "https://localhost:8080/",
          "height": 67
        },
        "outputId": "dccf2bf9-3875-4470-f166-dea448af8249"
      },
      "source": [
        "\n",
        "# load dogs vs cats dataset, reshape and save to a new file\n",
        "from os import listdir\n",
        "from numpy import asarray\n",
        "from numpy import save\n",
        "from keras.preprocessing.image import load_img\n",
        "from keras.preprocessing.image import img_to_array\n",
        "# define location of dataset\n",
        "folder = '/tmp/PetImages/Cat/'\n",
        "photos, labels = list(), list()\n",
        "# enumerate files in the directory\n",
        "for file in listdir(folder):\n",
        "  try:\n",
        "\t# determine class\n",
        "\t  output = 1.0\n",
        "\t# load image\n",
        "\t  photo = load_img(folder + file, target_size=(200, 200))\n",
        "\t# convert to numpy array\n",
        "\t  photo = img_to_array(photo)\n",
        "\t# store\n",
        "\t  photos.append(photo)\n",
        "\t  labels.append(output)\n",
        "  except(IOError, SyntaxError) as e:   \n",
        "    print('Bad file:', file) # print out the names\n",
        "\n",
        "# convert to a numpy arrays\n",
        "photos = asarray(photos)\n",
        "labels = asarray(labels)\n",
        "print(photos.shape, labels.shape)\n",
        "# save the reshaped photos\n",
        "save('cats_photos.npy', photos)\n",
        "save('cats_labels.npy', labels)"
      ],
      "execution_count": 4,
      "outputs": [
        {
          "output_type": "stream",
          "text": [
            "Bad file: Thumbs.db\n",
            "Bad file: 666.jpg\n",
            "(12499, 200, 200, 3) (12499,)\n"
          ],
          "name": "stdout"
        }
      ]
    },
    {
      "cell_type": "code",
      "metadata": {
        "id": "GXQUrtboUBuj",
        "colab_type": "code",
        "colab": {
          "base_uri": "https://localhost:8080/",
          "height": 356
        },
        "outputId": "21b82e63-edd0-434b-8c70-deac1439aa78"
      },
      "source": [
        "# load dogs vs cats dataset, reshape and save to a new file\n",
        "from os import listdir\n",
        "from numpy import asarray\n",
        "from numpy import save\n",
        "from keras.preprocessing.image import load_img\n",
        "from keras.preprocessing.image import img_to_array\n",
        "# define location of dataset\n",
        "folder = '/tmp/PetImages/Dog/'\n",
        "photos, labels = list(), list()\n",
        "# enumerate files in the directory\n",
        "for file in listdir(folder):\n",
        "  try:\n",
        "\t# determine class\n",
        "\t  output = 0.0\n",
        "\t# load image\n",
        "\t  photo = load_img(folder + file, target_size=(200, 200))\n",
        "\t# convert to numpy array\n",
        "\t  photo = img_to_array(photo)\n",
        "\t# store\n",
        "\t  photos.append(photo)\n",
        "\t  labels.append(output)\n",
        "  except(IOError, SyntaxError) as e:   \n",
        "    print('Bad file:', file) # print out the names\n",
        "\n",
        "# convert to a numpy arrays\n",
        "photos = asarray(photos)\n",
        "labels = asarray(labels)\n",
        "print(photos.shape, labels.shape)\n",
        "# save the reshaped photos\n",
        "save('dogs_photos.npy', photos)\n",
        "save('dogs_labels.npy', labels)"
      ],
      "execution_count": 5,
      "outputs": [
        {
          "output_type": "stream",
          "text": [
            "Bad file: 11702.jpg\n"
          ],
          "name": "stdout"
        },
        {
          "output_type": "stream",
          "text": [
            "/usr/local/lib/python3.6/dist-packages/PIL/TiffImagePlugin.py:770: UserWarning: Possibly corrupt EXIF data.  Expecting to read 32 bytes but only got 0. Skipping tag 270\n",
            "  \" Skipping tag %s\" % (size, len(data), tag)\n",
            "/usr/local/lib/python3.6/dist-packages/PIL/TiffImagePlugin.py:770: UserWarning: Possibly corrupt EXIF data.  Expecting to read 5 bytes but only got 0. Skipping tag 271\n",
            "  \" Skipping tag %s\" % (size, len(data), tag)\n",
            "/usr/local/lib/python3.6/dist-packages/PIL/TiffImagePlugin.py:770: UserWarning: Possibly corrupt EXIF data.  Expecting to read 8 bytes but only got 0. Skipping tag 272\n",
            "  \" Skipping tag %s\" % (size, len(data), tag)\n",
            "/usr/local/lib/python3.6/dist-packages/PIL/TiffImagePlugin.py:770: UserWarning: Possibly corrupt EXIF data.  Expecting to read 8 bytes but only got 0. Skipping tag 282\n",
            "  \" Skipping tag %s\" % (size, len(data), tag)\n",
            "/usr/local/lib/python3.6/dist-packages/PIL/TiffImagePlugin.py:770: UserWarning: Possibly corrupt EXIF data.  Expecting to read 8 bytes but only got 0. Skipping tag 283\n",
            "  \" Skipping tag %s\" % (size, len(data), tag)\n",
            "/usr/local/lib/python3.6/dist-packages/PIL/TiffImagePlugin.py:770: UserWarning: Possibly corrupt EXIF data.  Expecting to read 20 bytes but only got 0. Skipping tag 306\n",
            "  \" Skipping tag %s\" % (size, len(data), tag)\n",
            "/usr/local/lib/python3.6/dist-packages/PIL/TiffImagePlugin.py:770: UserWarning: Possibly corrupt EXIF data.  Expecting to read 48 bytes but only got 0. Skipping tag 532\n",
            "  \" Skipping tag %s\" % (size, len(data), tag)\n",
            "/usr/local/lib/python3.6/dist-packages/PIL/TiffImagePlugin.py:788: UserWarning: Corrupt EXIF data.  Expecting to read 2 bytes but only got 0. \n",
            "  warnings.warn(str(msg))\n"
          ],
          "name": "stderr"
        },
        {
          "output_type": "stream",
          "text": [
            "Bad file: Thumbs.db\n",
            "(12499, 200, 200, 3) (12499,)\n"
          ],
          "name": "stdout"
        }
      ]
    },
    {
      "cell_type": "code",
      "metadata": {
        "id": "-MZP7zHdVUbu",
        "colab_type": "code",
        "colab": {
          "base_uri": "https://localhost:8080/",
          "height": 34
        },
        "outputId": "4b9234e4-c4e9-4dcf-83ab-3cb76788885d"
      },
      "source": [
        "# load and confirm the shape\n",
        "from numpy import load\n",
        "photos = load('dogs_photos.npy')\n",
        "labels = load('dogs_labels.npy')\n",
        "print(photos.shape, labels.shape)"
      ],
      "execution_count": 6,
      "outputs": [
        {
          "output_type": "stream",
          "text": [
            "(12499, 200, 200, 3) (12499,)\n"
          ],
          "name": "stdout"
        }
      ]
    },
    {
      "cell_type": "markdown",
      "metadata": {
        "id": "o4Sy1-Ztt9sL",
        "colab_type": "text"
      },
      "source": [
        "Step 2: Plan how you will prepare the data to feed to your data processor. The data is fed to the processor with the same structure . Directories are created for test and train and data is split accordingly into cats and dogs folder in the 2 directories"
      ]
    },
    {
      "cell_type": "code",
      "metadata": {
        "id": "nVghv-0jWY_h",
        "colab_type": "code",
        "colab": {}
      },
      "source": [
        "# create directories\n",
        "dataset_home = 'random_dataset/'\n",
        "subdirs = ['train/', 'test/']\n",
        "for subdir in subdirs:\n",
        "\t# create label subdirectories\n",
        "\tlabeldirs = ['dogs/', 'cats/']\n",
        "\tfor labldir in labeldirs:\n",
        "\t\tnewdir = dataset_home + subdir + labldir\n",
        "\t\tos.makedirs(newdir, exist_ok=True)"
      ],
      "execution_count": 7,
      "outputs": []
    },
    {
      "cell_type": "code",
      "metadata": {
        "id": "r_AAK1FqbTkE",
        "colab_type": "code",
        "colab": {}
      },
      "source": [
        "from sklearn.model_selection import train_test_split\n",
        "cat_files=os.listdir(\"/tmp/PetImages/Cat/\")\n",
        "\n",
        "dog_files=os.listdir(\"/tmp/PetImages/Dog/\")"
      ],
      "execution_count": 8,
      "outputs": []
    },
    {
      "cell_type": "markdown",
      "metadata": {
        "id": "6dsdySe7ufGe",
        "colab_type": "text"
      },
      "source": [
        "Step 3: Create data processors for Training and Testing/Validation."
      ]
    },
    {
      "cell_type": "code",
      "metadata": {
        "id": "T_qvEPljcjZj",
        "colab_type": "code",
        "colab": {}
      },
      "source": [
        "cat_train, cat_test = train_test_split(cat_files, test_size = 0.2, random_state = 5)\n",
        "dog_train, dog_test = train_test_split(dog_files, test_size = 0.2, random_state = 5)"
      ],
      "execution_count": 9,
      "outputs": []
    },
    {
      "cell_type": "code",
      "metadata": {
        "id": "DdJIkdxNcnH_",
        "colab_type": "code",
        "colab": {
          "base_uri": "https://localhost:8080/",
          "height": 34
        },
        "outputId": "c2e2fc0b-ce97-4bd7-b59f-55783668564d"
      },
      "source": [
        "data_dir = '/tmp/PetImages/'\n",
        "from PIL import Image\n",
        "import os.path\n",
        "from os import path\n",
        "import shutil\n",
        "for file in cat_train:\n",
        "  if(file!='Thumbs.db' ):\n",
        "    path_file=os.path.join(os.path.join(data_dir,\"Cat\"),file)\n",
        "    if(path.exists(path_file) ):\n",
        "      try:\n",
        "        img = Image.open(path_file) # open the image file\n",
        "        img.verify() # verify that it is, in fact an image\n",
        "        dest=(\"./random_dataset/train/cats/\"+file)\n",
        "        shutil.copyfile(path_file, dest)\n",
        "      except (IOError, SyntaxError) as e:   \n",
        "        print('Bad file:', file) # print out the names"
      ],
      "execution_count": 10,
      "outputs": [
        {
          "output_type": "stream",
          "text": [
            "Bad file: 666.jpg\n"
          ],
          "name": "stdout"
        }
      ]
    },
    {
      "cell_type": "code",
      "metadata": {
        "id": "Ul0qPbPgj2sG",
        "colab_type": "code",
        "colab": {}
      },
      "source": [
        "for file in dog_train:\n",
        "  if(file!='Thumbs.db' ):\n",
        "    path_file=os.path.join(os.path.join(data_dir,\"Dog\"),file)\n",
        "    if(path.exists(path_file) ):\n",
        "      try:\n",
        "        img = Image.open(path_file) # open the image file\n",
        "        img.verify() # verify that it is, in fact an image\n",
        "        dest=(\"./random_dataset/train/dogs/\"+file)\n",
        "        shutil.copyfile(path_file, dest)\n",
        "      except (IOError, SyntaxError) as e:\n",
        "        print('Bad file:', file) # print out the name"
      ],
      "execution_count": null,
      "outputs": []
    },
    {
      "cell_type": "code",
      "metadata": {
        "id": "JjbXf-WKkM7K",
        "colab_type": "code",
        "colab": {}
      },
      "source": [
        "for file in cat_test:\n",
        "  if(file!='Thumbs.db' ):\n",
        "    path_file=os.path.join(os.path.join(data_dir,\"Cat\"),file)\n",
        "    if(path.exists(path_file) ):\n",
        "      try:\n",
        "        img = Image.open(path_file) # open the image file\n",
        "        img.verify() # verify that it is, in fact an image\n",
        "        dest=(\"./random_dataset/test/cats/\"+file)\n",
        "        shutil.copyfile(path_file, dest)\n",
        "      except (IOError, SyntaxError) as e:\n",
        "        print('Bad file:', file) # print out the names"
      ],
      "execution_count": 12,
      "outputs": []
    },
    {
      "cell_type": "code",
      "metadata": {
        "id": "Htc8sJbnkf_p",
        "colab_type": "code",
        "colab": {}
      },
      "source": [
        "for file in dog_test:\n",
        "  if(file!='Thumbs.db' ):\n",
        "    path_file=os.path.join(os.path.join(data_dir,\"Dog\"),file)\n",
        "    if(path.exists(path_file) ):\n",
        "      try:\n",
        "        img = Image.open(path_file) # open the image file\n",
        "        img.verify() # verify that it is, in fact an image\n",
        "        dest=(\"./random_dataset/test/dogs/\"+file)\n",
        "        shutil.copyfile(path_file, dest)\n",
        "      except (IOError, SyntaxError) as e:\n",
        "        print('Bad file:', file) # print out the names"
      ],
      "execution_count": 13,
      "outputs": []
    },
    {
      "cell_type": "markdown",
      "metadata": {
        "id": "wg8apNMYuYbu",
        "colab_type": "text"
      },
      "source": [
        "Step 4: Create your own Neural network with Convolution layers, Max Pool Layers, Dense Layers,\n",
        "Dropout layers from scratch (Use Keras API to define the network and not use any existing neural\n",
        "networks - such as VGG16, Resnet, etc.)."
      ]
    },
    {
      "cell_type": "code",
      "metadata": {
        "id": "ldJkw6UKl-d3",
        "colab_type": "code",
        "colab": {}
      },
      "source": [
        "# Step 2: Initialising the CNN\n",
        "model = Sequential()\n",
        "\n",
        "# Step 3: Convolution\n",
        "model.add(Conv2D(32, (3, 3), input_shape = (50, 50, 3), activation = 'relu'))\n",
        "\n",
        "# Step 4: Pooling\n",
        "model.add(MaxPooling2D(pool_size = (2, 2)))\n",
        "\n",
        "# Step 5: Second convolutional layer\n",
        "model.add(Conv2D(32, (3, 3), activation = 'relu'))\n",
        "model.add(MaxPooling2D(pool_size = (2, 2)))\n",
        "\n",
        "# Step 6: Flattening\n",
        "model.add(Flatten())\n",
        "\n",
        "# Step 7: Full connection\n",
        "model.add(Dense(units = 128, activation = 'relu'))\n",
        "model.add(Dense(units = 1, activation = 'sigmoid'))\n",
        "\n",
        "# Step 8: Compiling the CNN\n",
        "model.compile(optimizer = 'adam', loss = 'binary_crossentropy', metrics = ['accuracy'])"
      ],
      "execution_count": 14,
      "outputs": []
    },
    {
      "cell_type": "markdown",
      "metadata": {
        "id": "AEzcJ_nxu3i9",
        "colab_type": "text"
      },
      "source": [
        "Step 5: Train your model and measure the performance of your neural network and document it.\n",
        "Performance includes – Accuracy, loss other metrics of measurement for Train, Val, Test, Size of\n",
        "the model, Time taken for forward Path (Inference Time)."
      ]
    },
    {
      "cell_type": "code",
      "metadata": {
        "id": "JloVjKiaojw6",
        "colab_type": "code",
        "colab": {}
      },
      "source": [
        "# Step 9: ImageDataGenerator\n",
        "from keras.preprocessing.image import ImageDataGenerator\n",
        "\n",
        "train_datagen = ImageDataGenerator(rescale = 1./255,\n",
        "                                   shear_range = 0.2,\n",
        "                                   zoom_range = 0.2,\n",
        "                                   horizontal_flip = True)\n"
      ],
      "execution_count": 15,
      "outputs": []
    },
    {
      "cell_type": "code",
      "metadata": {
        "id": "coCIMRE7pThb",
        "colab_type": "code",
        "colab": {
          "base_uri": "https://localhost:8080/",
          "height": 34
        },
        "outputId": "fc2ace16-8be6-4ca5-8eac-746bce0c1252"
      },
      "source": [
        "# Step 10: Load the training Set\n",
        "dir=\"./random_dataset/train\"\n",
        "training_set = train_datagen.flow_from_directory(dir,\n",
        "                                                 target_size = (50, 50),\n",
        "                                                 batch_size = 32,\n",
        "                                                 class_mode = 'binary')"
      ],
      "execution_count": 16,
      "outputs": [
        {
          "output_type": "stream",
          "text": [
            "Found 19996 images belonging to 2 classes.\n"
          ],
          "name": "stdout"
        }
      ]
    },
    {
      "cell_type": "code",
      "metadata": {
        "id": "yLcfgiDRpURn",
        "colab_type": "code",
        "colab": {}
      },
      "source": [
        "test_datagen = ImageDataGenerator(rescale = 1./255,\n",
        "                                   shear_range = 0.2,\n",
        "                                   zoom_range = 0.2,\n",
        "                                   horizontal_flip = True)"
      ],
      "execution_count": 17,
      "outputs": []
    },
    {
      "cell_type": "code",
      "metadata": {
        "id": "-EMQWJw_pZss",
        "colab_type": "code",
        "colab": {
          "base_uri": "https://localhost:8080/",
          "height": 34
        },
        "outputId": "4eda07e9-590f-47dc-b83a-8df939e3bf64"
      },
      "source": [
        "dir=\"./random_dataset/test\"\n",
        "testing_set = test_datagen.flow_from_directory(dir,\n",
        "                                                 target_size = (50, 50),\n",
        "                                                 batch_size = 32,\n",
        "                                                 class_mode = 'binary')"
      ],
      "execution_count": 18,
      "outputs": [
        {
          "output_type": "stream",
          "text": [
            "Found 5002 images belonging to 2 classes.\n"
          ],
          "name": "stdout"
        }
      ]
    },
    {
      "cell_type": "code",
      "metadata": {
        "id": "HcgT3pyzpdmv",
        "colab_type": "code",
        "colab": {
          "base_uri": "https://localhost:8080/",
          "height": 860
        },
        "outputId": "81931091-5281-42e9-da9b-199e10b4fb4e"
      },
      "source": [
        "import warnings\n",
        "history = model.fit_generator(\n",
        "    training_set,\n",
        "    steps_per_epoch=19996 // 32,\n",
        "    epochs=15,\n",
        "    validation_data=testing_set,\n",
        "    validation_steps=5002 // 32\n",
        ")"
      ],
      "execution_count": 20,
      "outputs": [
        {
          "output_type": "stream",
          "text": [
            "WARNING:tensorflow:From <ipython-input-20-08fce408fd4d>:7: Model.fit_generator (from tensorflow.python.keras.engine.training) is deprecated and will be removed in a future version.\n",
            "Instructions for updating:\n",
            "Please use Model.fit, which supports generators.\n",
            "Epoch 1/15\n",
            "304/624 [=============>................] - ETA: 1:00 - loss: 0.6274 - accuracy: 0.6438"
          ],
          "name": "stdout"
        },
        {
          "output_type": "stream",
          "text": [
            "/usr/local/lib/python3.6/dist-packages/PIL/TiffImagePlugin.py:770: UserWarning: Possibly corrupt EXIF data.  Expecting to read 32 bytes but only got 0. Skipping tag 270\n",
            "  \" Skipping tag %s\" % (size, len(data), tag)\n",
            "/usr/local/lib/python3.6/dist-packages/PIL/TiffImagePlugin.py:770: UserWarning: Possibly corrupt EXIF data.  Expecting to read 5 bytes but only got 0. Skipping tag 271\n",
            "  \" Skipping tag %s\" % (size, len(data), tag)\n",
            "/usr/local/lib/python3.6/dist-packages/PIL/TiffImagePlugin.py:770: UserWarning: Possibly corrupt EXIF data.  Expecting to read 8 bytes but only got 0. Skipping tag 272\n",
            "  \" Skipping tag %s\" % (size, len(data), tag)\n",
            "/usr/local/lib/python3.6/dist-packages/PIL/TiffImagePlugin.py:770: UserWarning: Possibly corrupt EXIF data.  Expecting to read 8 bytes but only got 0. Skipping tag 282\n",
            "  \" Skipping tag %s\" % (size, len(data), tag)\n",
            "/usr/local/lib/python3.6/dist-packages/PIL/TiffImagePlugin.py:770: UserWarning: Possibly corrupt EXIF data.  Expecting to read 8 bytes but only got 0. Skipping tag 283\n",
            "  \" Skipping tag %s\" % (size, len(data), tag)\n",
            "/usr/local/lib/python3.6/dist-packages/PIL/TiffImagePlugin.py:770: UserWarning: Possibly corrupt EXIF data.  Expecting to read 20 bytes but only got 0. Skipping tag 306\n",
            "  \" Skipping tag %s\" % (size, len(data), tag)\n",
            "/usr/local/lib/python3.6/dist-packages/PIL/TiffImagePlugin.py:770: UserWarning: Possibly corrupt EXIF data.  Expecting to read 48 bytes but only got 0. Skipping tag 532\n",
            "  \" Skipping tag %s\" % (size, len(data), tag)\n",
            "/usr/local/lib/python3.6/dist-packages/PIL/TiffImagePlugin.py:788: UserWarning: Corrupt EXIF data.  Expecting to read 2 bytes but only got 0. \n",
            "  warnings.warn(str(msg))\n"
          ],
          "name": "stderr"
        },
        {
          "output_type": "stream",
          "text": [
            "624/624 [==============================] - 138s 221ms/step - loss: 0.5954 - accuracy: 0.6784 - val_loss: 0.5446 - val_accuracy: 0.7316\n",
            "Epoch 2/15\n",
            "624/624 [==============================] - 136s 218ms/step - loss: 0.5211 - accuracy: 0.7414 - val_loss: 0.5175 - val_accuracy: 0.7498\n",
            "Epoch 3/15\n",
            "624/624 [==============================] - 136s 217ms/step - loss: 0.4887 - accuracy: 0.7618 - val_loss: 0.4654 - val_accuracy: 0.7762\n",
            "Epoch 4/15\n",
            "624/624 [==============================] - 136s 217ms/step - loss: 0.4661 - accuracy: 0.7767 - val_loss: 0.4615 - val_accuracy: 0.7849\n",
            "Epoch 5/15\n",
            "624/624 [==============================] - 136s 218ms/step - loss: 0.4496 - accuracy: 0.7879 - val_loss: 0.4866 - val_accuracy: 0.7728\n",
            "Epoch 6/15\n",
            "624/624 [==============================] - 136s 218ms/step - loss: 0.4302 - accuracy: 0.7982 - val_loss: 0.4488 - val_accuracy: 0.7917\n",
            "Epoch 7/15\n",
            "624/624 [==============================] - 136s 217ms/step - loss: 0.4188 - accuracy: 0.8063 - val_loss: 0.4374 - val_accuracy: 0.7995\n",
            "Epoch 8/15\n",
            "624/624 [==============================] - 135s 217ms/step - loss: 0.4042 - accuracy: 0.8146 - val_loss: 0.4446 - val_accuracy: 0.7893\n",
            "Epoch 9/15\n",
            "624/624 [==============================] - 136s 217ms/step - loss: 0.3880 - accuracy: 0.8191 - val_loss: 0.4159 - val_accuracy: 0.8145\n",
            "Epoch 10/15\n",
            "624/624 [==============================] - 136s 218ms/step - loss: 0.3744 - accuracy: 0.8301 - val_loss: 0.4155 - val_accuracy: 0.8183\n",
            "Epoch 11/15\n",
            "624/624 [==============================] - 135s 217ms/step - loss: 0.3635 - accuracy: 0.8357 - val_loss: 0.4193 - val_accuracy: 0.8141\n",
            "Epoch 12/15\n",
            "624/624 [==============================] - 136s 218ms/step - loss: 0.3505 - accuracy: 0.8432 - val_loss: 0.4010 - val_accuracy: 0.8209\n",
            "Epoch 13/15\n",
            "624/624 [==============================] - 136s 218ms/step - loss: 0.3393 - accuracy: 0.8506 - val_loss: 0.4074 - val_accuracy: 0.8145\n",
            "Epoch 14/15\n",
            "624/624 [==============================] - 137s 220ms/step - loss: 0.3251 - accuracy: 0.8569 - val_loss: 0.4002 - val_accuracy: 0.8235\n",
            "Epoch 15/15\n",
            "624/624 [==============================] - 136s 218ms/step - loss: 0.3146 - accuracy: 0.8590 - val_loss: 0.4004 - val_accuracy: 0.8217\n"
          ],
          "name": "stdout"
        }
      ]
    },
    {
      "cell_type": "code",
      "metadata": {
        "id": "7qsu-6GspmaO",
        "colab_type": "code",
        "colab": {
          "base_uri": "https://localhost:8080/",
          "height": 104
        },
        "outputId": "a5868ead-e90d-4ab6-853d-7572deb8ee91"
      },
      "source": [
        "# evaluate model\n",
        "_, acc = model.evaluate_generator(testing_set, steps=len(testing_set), verbose=0)\n",
        "print('> %.3f' % (acc * 100.0))"
      ],
      "execution_count": 21,
      "outputs": [
        {
          "output_type": "stream",
          "text": [
            "WARNING:tensorflow:From <ipython-input-21-f88edc1a8502>:2: Model.evaluate_generator (from tensorflow.python.keras.engine.training) is deprecated and will be removed in a future version.\n",
            "Instructions for updating:\n",
            "Please use Model.evaluate, which supports generators.\n",
            "> 82.307\n"
          ],
          "name": "stdout"
        }
      ]
    },
    {
      "cell_type": "markdown",
      "metadata": {
        "id": "qbcOOSq_zTn3",
        "colab_type": "text"
      },
      "source": [
        "**The accuracy measured is 82.307%**"
      ]
    },
    {
      "cell_type": "code",
      "metadata": {
        "id": "f1q4BI_pyLSc",
        "colab_type": "code",
        "colab": {
          "base_uri": "https://localhost:8080/",
          "height": 499
        },
        "outputId": "66cb9556-52a5-4b6d-d9b7-693f1333a6fb"
      },
      "source": [
        "#visualising training results\n",
        "acc_train = history.history['accuracy']\n",
        "acc_test = history.history['val_accuracy']\n",
        "\n",
        "loss_train=history.history['loss']\n",
        "loss_test=history.history['val_loss']\n",
        "\n",
        "epochs_range = range(15)\n",
        "\n",
        "plt.figure(figsize=(8, 8))\n",
        "plt.subplot(1, 2, 1)\n",
        "plt.plot(epochs_range, acc_train, label='Training Accuracy')\n",
        "plt.plot(epochs_range, acc_test, label='Validation Accuracy')\n",
        "plt.legend(loc='lower right')\n",
        "plt.title('Training and Validation Accuracy')\n",
        "\n",
        "plt.subplot(1, 2, 2)\n",
        "plt.plot(epochs_range, loss_train, label='Training Loss')\n",
        "plt.plot(epochs_range, loss_test, label='Validation Loss')\n",
        "plt.legend(loc='upper right')\n",
        "plt.title('Training and Validation Loss')\n",
        "plt.show()"
      ],
      "execution_count": 22,
      "outputs": [
        {
          "output_type": "display_data",
          "data": {
            "image/png": "[encoded data removed]",
            "text/plain": [
              "<Figure size 576x576 with 2 Axes>"
            ]
          },
          "metadata": {
            "tags": [],
            "needs_background": "light"
          }
        }
      ]
    },
    {
      "cell_type": "code",
      "metadata": {
        "id": "wpEojCowyi5I",
        "colab_type": "code",
        "colab": {
          "base_uri": "https://localhost:8080/",
          "height": 386
        },
        "outputId": "d45868ae-12f6-47b2-fee5-e520f65c7be1"
      },
      "source": [
        "model.summary()"
      ],
      "execution_count": 24,
      "outputs": [
        {
          "output_type": "stream",
          "text": [
            "Model: \"sequential\"\n",
            "_________________________________________________________________\n",
            "Layer (type)                 Output Shape              Param #   \n",
            "=================================================================\n",
            "conv2d (Conv2D)              (None, 48, 48, 32)        896       \n",
            "_________________________________________________________________\n",
            "max_pooling2d (MaxPooling2D) (None, 24, 24, 32)        0         \n",
            "_________________________________________________________________\n",
            "conv2d_1 (Conv2D)            (None, 22, 22, 32)        9248      \n",
            "_________________________________________________________________\n",
            "max_pooling2d_1 (MaxPooling2 (None, 11, 11, 32)        0         \n",
            "_________________________________________________________________\n",
            "flatten (Flatten)            (None, 3872)              0         \n",
            "_________________________________________________________________\n",
            "dense (Dense)                (None, 128)               495744    \n",
            "_________________________________________________________________\n",
            "dense_1 (Dense)              (None, 1)                 129       \n",
            "=================================================================\n",
            "Total params: 506,017\n",
            "Trainable params: 506,017\n",
            "Non-trainable params: 0\n",
            "_________________________________________________________________\n"
          ],
          "name": "stdout"
        }
      ]
    },
    {
      "cell_type": "markdown",
      "metadata": {
        "id": "zenyyfkOu9Zh",
        "colab_type": "text"
      },
      "source": [
        "Step 6: Create an inference function/script to load and perform prediction on the trained model."
      ]
    },
    {
      "cell_type": "code",
      "metadata": {
        "id": "e5KjiUEV5I-Q",
        "colab_type": "code",
        "colab": {
          "resources": {
            "http://localhost:8080/nbextensions/google.colab/files.js": {
              "data": "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",
              "ok": true,
              "headers": [
                [
                  "content-type",
                  "application/javascript"
                ]
              ],
              "status": 200,
              "status_text": ""
            }
          },
          "base_uri": "https://localhost:8080/",
          "height": 106
        },
        "outputId": "f0d4c660-d27d-461e-e91d-b404141e21f5"
      },
      "source": [
        "img_width = 50\n",
        "img_height =50\n",
        "import numpy as np\n",
        "from google.colab import files\n",
        "from keras.preprocessing import image\n",
        "\n",
        "def predict_from_model(model, image_size):\n",
        "  uploaded = files.upload()\n",
        "\n",
        "  for fn in uploaded.keys():\n",
        "  \n",
        "    # predicting images\n",
        "    path = '/content/' + fn\n",
        "    img = image.load_img(path, target_size=image_size)\n",
        "    x = image.img_to_array(img)\n",
        "    x = x*(1/255.0) #since the train and validation data was also rescaled\n",
        "    x = np.expand_dims(x, axis=0)\n",
        "    images = np.vstack([x])\n",
        "    classes = model.predict(images, batch_size=32)\n",
        "    print(classes[0])\n",
        "    if classes[0]>0.5:\n",
        "      print(fn + \" is a dog\")\n",
        "    else:\n",
        "      print(fn + \" is a cat\")\n",
        "\n",
        "predict_from_model(model, (img_width,img_height))"
      ],
      "execution_count": 33,
      "outputs": [
        {
          "output_type": "display_data",
          "data": {
            "text/html": [
              "\n",
              "     <input type=\"file\" id=\"files-d8a360a1-7d36-4379-8f3f-6fdd7e0ff06d\" name=\"files[]\" multiple disabled\n",
              "        style=\"border:none\" />\n",
              "     <output id=\"result-d8a360a1-7d36-4379-8f3f-6fdd7e0ff06d\">\n",
              "      Upload widget is only available when the cell has been executed in the\n",
              "      current browser session. Please rerun this cell to enable.\n",
              "      </output>\n",
              "      <script src=\"/nbextensions/google.colab/files.js\"></script> "
            ],
            "text/plain": [
              "<IPython.core.display.HTML object>"
            ]
          },
          "metadata": {
            "tags": []
          }
        },
        {
          "output_type": "stream",
          "text": [
            "Saving 3.jpg to 3 (1).jpg\n",
            "[0.30017665]\n",
            "3.jpg is a cat\n"
          ],
          "name": "stdout"
        }
      ]
    },
    {
      "cell_type": "markdown",
      "metadata": {
        "id": "hqgoK4b1nwa7",
        "colab_type": "text"
      },
      "source": [
        "Predictions:\n",
        "(1st prediction)\n",
        "  \n",
        "4.jpg(image/jpeg) - 108590 bytes, last modified: 2/10/2017 - 100% done\n",
        "Saving 4.jpg to 4.jpg\n",
        "[0.9957242]\n",
        "4.jpg is a dog\n",
        "This was a correct prediction\n",
        "(2nd prediction)\n",
        "  11.jpg(image/jpeg) - 32280 bytes, last modified: 2/10/2017 - 100% done\n",
        "Saving 11.jpg to 11.jpg\n",
        "[0.33406177]\n",
        "11.jpg is a cat\n",
        "This was also a correct prediction\n",
        "\n",
        "(3rd prediction)\n",
        "    3.jpg(image/jpeg) - 30730 bytes, last modified: 2/10/2017 - 100% done\n",
        "Saving 3.jpg to 3 (1).jpg\n",
        "[0.30017665]\n",
        "3.jpg is a cat\n",
        "This was a wrong prediction - supposed to be a dog.."
      ]
    },
    {
      "cell_type": "markdown",
      "metadata": {
        "id": "nRXzD7FSvEyI",
        "colab_type": "text"
      },
      "source": [
        "**Step 7: Explainable AI – Create heatmap aka GRAD-CAM to visualize what your AI/ML model\n",
        "is seeing to arrive at the decision. Use the TF-EXPLAIN library to do the same.**"
      ]
    },
    {
      "cell_type": "code",
      "metadata": {
        "id": "Ya6tJtj9l8Yb",
        "colab_type": "code",
        "colab": {}
      },
      "source": [
        "def get_gradcam_using_tfexplain(image_path, image_size, save_path, save_name, model, layer_name):\n",
        "  from PIL import Image\n",
        "  import matplotlib.pyplot as plt\n",
        "  from tf_explain.core.grad_cam import GradCAM\n",
        "  import cv2\n",
        "  IMAGE_PATH = image_path\n",
        "  img = tf.keras.preprocessing.image.load_img(IMAGE_PATH, target_size = image_size)\n",
        "  img = tf.keras.preprocessing.image.img_to_array(img)\n",
        "  img = img*(1/255.0)\n",
        "  data = ([img], None)\n",
        "  class_index = 0\n",
        "\n",
        "  explainer = GradCAM()\n",
        "  grid = explainer.explain(data, model, 0, layer_name, colormap=cv2.COLORMAP_VIRIDIS)\n",
        "  explainer.save(grid, save_path, save_name)\n",
        "\n",
        "  img = Image.open(save_path+save_name)\n",
        "  plt.imshow(img)\n",
        "  plt.figure()"
      ],
      "execution_count": 34,
      "outputs": []
    },
    {
      "cell_type": "code",
      "metadata": {
        "id": "ZlaFrNfRqMcT",
        "colab_type": "code",
        "colab": {
          "base_uri": "https://localhost:8080/",
          "height": 154
        },
        "outputId": "50c506fa-eb67-4748-cf44-6f6a651c579c"
      },
      "source": [
        "pip install tf-explain"
      ],
      "execution_count": 35,
      "outputs": [
        {
          "output_type": "stream",
          "text": [
            "Collecting tf-explain\n",
            "\u001b[?25l  Downloading https://files.pythonhosted.org/packages/1d/08/f77da1c8d29ba5b125e72b61b105e7514663562adac2bbbce04e424a37bc/tf_explain-0.2.1-py3-none-any.whl (41kB)\n",
            "\r\u001b[K     |███████▉                        | 10kB 15.4MB/s eta 0:00:01\r\u001b[K     |███████████████▊                | 20kB 1.7MB/s eta 0:00:01\r\u001b[K     |███████████████████████▋        | 30kB 2.2MB/s eta 0:00:01\r\u001b[K     |███████████████████████████████▌| 40kB 2.4MB/s eta 0:00:01\r\u001b[K     |████████████████████████████████| 51kB 2.0MB/s \n",
            "\u001b[?25hRequirement already satisfied: opencv-python>=4.1.0.25 in /usr/local/lib/python3.6/dist-packages (from tf-explain) (4.1.2.30)\n",
            "Requirement already satisfied: numpy>=1.11.3 in /usr/local/lib/python3.6/dist-packages (from opencv-python>=4.1.0.25->tf-explain) (1.18.5)\n",
            "Installing collected packages: tf-explain\n",
            "Successfully installed tf-explain-0.2.1\n"
          ],
          "name": "stdout"
        }
      ]
    },
    {
      "cell_type": "code",
      "metadata": {
        "id": "h0Zdzp8po0tj",
        "colab_type": "code",
        "colab": {
          "base_uri": "https://localhost:8080/",
          "height": 1000
        },
        "outputId": "73286b60-13e2-4f44-aa5e-160f02b50cde"
      },
      "source": [
        "import tensorflow as tf\n",
        "import cv2\n",
        "image_path1 = '/content/1.jpg'\n",
        "image_path2 = '/content/7.jpg'\n",
        "image_path3 = '/content/random_dataset/test/cats/10000.jpg'\n",
        "target_size = (img_width,img_height)\n",
        "layer_name = \"conv2d_1\"\n",
        "pool_name = \"max_pooling2d_1\"\n",
        "\n",
        "#using the last pooling layer for gradcam visualization\n",
        "get_gradcam_using_tfexplain(image_path1, target_size, \"/content/\",'gc_pooling_1.jpg', model, pool_name)\n",
        "get_gradcam_using_tfexplain(image_path2, target_size,\"/content/\" ,'gc_pooling_2.jpg', model, pool_name)\n",
        "get_gradcam_using_tfexplain(image_path3, target_size, \"/content/\",'gc_pooling_3.jpg', model, pool_name)\n",
        "\n",
        "#using the last convolution layer for visalization\n",
        "get_gradcam_using_tfexplain(image_path1, target_size, \"/content/\",'gc_convo_1.jpg', model, layer_name)\n",
        "get_gradcam_using_tfexplain(image_path2, target_size, \"/content/\",'gc_convo_2.jpg', model, layer_name)\n",
        "get_gradcam_using_tfexplain(image_path3, target_size, \"/content/\",'gc_convo_3.jpg', model, layer_name)\n"
      ],
      "execution_count": 37,
      "outputs": [
        {
          "output_type": "display_data",
          "data": {
            "image/png": "[encoded data removed]",
            "text/plain": [
              "<Figure size 432x288 with 1 Axes>"
            ]
          },
          "metadata": {
            "tags": [],
            "needs_background": "light"
          }
        },
        {
          "output_type": "display_data",
          "data": {
            "image/png": "[encoded data removed]",
            "text/plain": [
              "<Figure size 432x288 with 1 Axes>"
            ]
          },
          "metadata": {
            "tags": [],
            "needs_background": "light"
          }
        },
        {
          "output_type": "display_data",
          "data": {
            "image/png": "[encoded data removed]",
            "text/plain": [
              "<Figure size 432x288 with 1 Axes>"
            ]
          },
          "metadata": {
            "tags": [],
            "needs_background": "light"
          }
        },
        {
          "output_type": "display_data",
          "data": {
            "image/png": "[encoded data removed]",
            "text/plain": [
              "<Figure size 432x288 with 1 Axes>"
            ]
          },
          "metadata": {
            "tags": [],
            "needs_background": "light"
          }
        },
        {
          "output_type": "display_data",
          "data": {
            "image/png": "[encoded data removed]",
            "text/plain": [
              "<Figure size 432x288 with 1 Axes>"
            ]
          },
          "metadata": {
            "tags": [],
            "needs_background": "light"
          }
        },
        {
          "output_type": "display_data",
          "data": {
            "image/png": "[encoded data removed]",
            "text/plain": [
              "<Figure size 432x288 with 1 Axes>"
            ]
          },
          "metadata": {
            "tags": [],
            "needs_background": "light"
          }
        },
        {
          "output_type": "display_data",
          "data": {
            "text/plain": [
              "<Figure size 432x288 with 0 Axes>"
            ]
          },
          "metadata": {
            "tags": []
          }
        }
      ]
    },
    {
      "cell_type": "markdown",
      "metadata": {
        "id": "ahAPRhUgvTb2",
        "colab_type": "text"
      },
      "source": [
        "The grad cam used is working on the last convolution layer and the last pooling layer created by the cnn model and  the heat maps generated are not so effective , this can be improved by using a built in network --- Task2-cat-and-dog"
      ]
    }
  ]
}